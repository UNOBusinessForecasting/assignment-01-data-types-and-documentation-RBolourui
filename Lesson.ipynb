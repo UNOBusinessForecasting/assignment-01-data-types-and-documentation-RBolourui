{
  "cells": [
    {
      "cell_type": "markdown",
      "id": "49d95ff0-9ba8-41fc-9269-fbaccae2f6a8",
      "metadata": {
        "id": "49d95ff0-9ba8-41fc-9269-fbaccae2f6a8"
      },
      "source": [
        "## Why do I need to know this?\n",
        "\n",
        "Programming is a way to allow us as humans to manipulate information (data) on a scale much larger than we would otherwise be able to handle. Speaking anecdotally, on a good day my brain is able to handle one mathematical operation per second. I can remember a few things at once, and a few more things if I spend a while memorizing them. On the other hand, my laptop can handle millions of mathematical operations per second, and can \"memorize\" the contents of a spreadsheet fast enough that to me it feels instantaneous. When we use Python, we are accessing the amped up computational power provided by our computers to enable us to focus on thinking critically, and letting our computer handle the rest.\n",
        "\n",
        "How do computers handle data? At the most basic level, it all gets digested into the same form: 1s and 0s. Were we to attempt a very complete treatment of information and computation, we would need to start there. Suffice it to say that computers need all information to be concrete, and that information that cannot be quantified or written in a fixed form is no good.\n",
        "\n",
        "Instead of starting with binary values (the 1s and 0s above), we have the privilege of experiencing our interactions with computers through a high-level programming language: Python. High-level is an indication that the programming language is closer to a human-readable form than a computer-readable form. While we are working furiously to do our work writing in Python, the computer is translating everything that we say (in Python) to machine-speak. High-level code is slower to run than low-level (easier for machines to translate) code, but we accept that tradeoff in order to minimize the time and effort we spend in writing our code.\n",
        "\n",
        "Writing Python code is MUCH easier than writing code in just about any other language. Trust me.\n",
        "\n",
        "## Then how do I start?\n",
        "\n",
        "The first thing that we need to understand when we start to interact with Python is the language's ability to represent different kinds of information. The types of information that can be stored, and the ways in which we can store them, inform the choices that we will make as we begin to programmatically handle the information that is available to us. Think of each method of storing information as storage bins like you might find in a kitchen: one bin is intended to hold sugar, another flour, and another rice. Sure, you could insist on putting rice in the sugar bin, but the next chef to use the kitchen might not appreciate your choice. In programming, we should look for the appropriate storage bin for the information that we are dealing with in any specific context\n",
        "\n",
        "In programming, we label the different storage bins **data types**.\n",
        "\n",
        "A data type is an **object** (we will discuss this more later) that is designed to handle a specific kind of information. Let's take a look at a few different types:\n",
        "\n",
        "## Variables\n",
        "\n",
        "In Python, we can work with data as if the Python interpreter (the thing that runs our code) were a fancy calculator, and we can just type all the information we need into the interpreter each time we run code. This is not feasible, however, for larger projects. In those cases, we store information in what are called **variables**.\n",
        "\n",
        "Any data type can be stored as a variable. The names we give these variables are nearly infinite. There are a few rules and guidelines (rules will be bolded) on how we should name them, though:\n",
        "- **Names cannot start with numbers**\n",
        "- Names should be lower case\n",
        "- **Names can include letters, numbers, and underscores**\n",
        "- Names should be descriptive\n",
        "- Names should not be reserved words\n",
        "\n",
        "We store information as a variable in the following way:"
      ]
    },
    {
      "cell_type": "code",
      "execution_count": null,
      "id": "c564b2fa-a255-47a6-b18e-1446e2032cdd",
      "metadata": {
        "id": "c564b2fa-a255-47a6-b18e-1446e2032cdd"
      },
      "outputs": [],
      "source": [
        "mySentence = \"This is my first variable!\""
      ]
    },
    {
      "cell_type": "markdown",
      "id": "b8a05027-9867-41aa-8ed3-9b5a235ea3fd",
      "metadata": {
        "id": "b8a05027-9867-41aa-8ed3-9b5a235ea3fd"
      },
      "source": [
        "We have now indicated to Python that it should remember (until further notice or the end of our program) that `mySentence` is a variable containing the value `\"This is my first variable!\"`. We can ask Python to provide this variable for us as we continue to create code. Outside of exercises, we will not store information as variables during this class period."
      ]
    },
    {
      "cell_type": "markdown",
      "id": "4de02962-98f2-4080-a1fc-ced623b90204",
      "metadata": {
        "id": "4de02962-98f2-4080-a1fc-ced623b90204"
      },
      "source": [
        "## Numbers"
      ]
    },
    {
      "cell_type": "markdown",
      "id": "b09c4ffe-5d3b-4199-8397-89a9908edfad",
      "metadata": {
        "id": "b09c4ffe-5d3b-4199-8397-89a9908edfad"
      },
      "source": [
        "There are several different data types to handle numbers. Let's talk about **integers** and **floating-point numbers**. One really cool thing about Python is that it tries to do the work of switching between integer and floating point numbers for us as we do different calculations requiring one or the other. Let's explore briefly how each one works.\n",
        "\n",
        "### Integers\n",
        "\n",
        "**Integers** represent whole numbers, and _cannot_ represent any number with a decimal. We can perform simple operations using our arithmetic operators (+,-,\\*,\\/)."
      ]
    },
    {
      "cell_type": "code",
      "execution_count": null,
      "id": "ba83388d-6a4e-4863-87b0-32fb9b76af5d",
      "metadata": {
        "colab": {
          "base_uri": "https://localhost:8080/"
        },
        "id": "ba83388d-6a4e-4863-87b0-32fb9b76af5d",
        "outputId": "c1d2ff6b-e336-4b75-b28b-9d98426e4d1a"
      },
      "outputs": [
        {
          "output_type": "execute_result",
          "data": {
            "text/plain": [
              "4"
            ]
          },
          "metadata": {},
          "execution_count": 28
        }
      ],
      "source": [
        "2 + 2"
      ]
    },
    {
      "cell_type": "code",
      "execution_count": null,
      "id": "b2fc2618-573f-4d85-b449-da422b4a84f5",
      "metadata": {
        "colab": {
          "base_uri": "https://localhost:8080/"
        },
        "id": "b2fc2618-573f-4d85-b449-da422b4a84f5",
        "outputId": "8fb271d6-d50c-4bf1-9abe-e5f24b42d00e"
      },
      "outputs": [
        {
          "output_type": "execute_result",
          "data": {
            "text/plain": [
              "77"
            ]
          },
          "metadata": {},
          "execution_count": 29
        }
      ],
      "source": [
        "87 - 10"
      ]
    },
    {
      "cell_type": "code",
      "execution_count": null,
      "id": "e54ed467-ca48-4d70-abf8-6a9a9f3e28d4",
      "metadata": {
        "colab": {
          "base_uri": "https://localhost:8080/"
        },
        "id": "e54ed467-ca48-4d70-abf8-6a9a9f3e28d4",
        "outputId": "40bc0162-1c88-44a3-a31d-9289117576b8"
      },
      "outputs": [
        {
          "output_type": "execute_result",
          "data": {
            "text/plain": [
              "5.0"
            ]
          },
          "metadata": {},
          "execution_count": 30
        }
      ],
      "source": [
        "5 / 1"
      ]
    },
    {
      "cell_type": "code",
      "execution_count": null,
      "id": "032e993e-c148-472c-a5c9-4acae70249fa",
      "metadata": {
        "colab": {
          "base_uri": "https://localhost:8080/"
        },
        "id": "032e993e-c148-472c-a5c9-4acae70249fa",
        "outputId": "97c02dd6-3686-419f-96bf-09e915be6199"
      },
      "outputs": [
        {
          "output_type": "execute_result",
          "data": {
            "text/plain": [
              "24"
            ]
          },
          "metadata": {},
          "execution_count": 31
        }
      ],
      "source": [
        "8 * 3"
      ]
    },
    {
      "cell_type": "markdown",
      "id": "a54f2559-4b7c-4a3d-b53e-5a138602666b",
      "metadata": {
        "id": "a54f2559-4b7c-4a3d-b53e-5a138602666b"
      },
      "source": [
        "It is interesting to note that division resulted in a floating-point number. This allows us to divide integers, even when the result will not be an integer itself, and adds convenience to our mathematical functions. Python also allows us to mandate that the result of division be an integer by using the \\/\\/ operator. Note the different outputs below:"
      ]
    },
    {
      "cell_type": "code",
      "execution_count": null,
      "id": "66c90b49-4a96-4d37-8651-ca222358389d",
      "metadata": {
        "colab": {
          "base_uri": "https://localhost:8080/"
        },
        "id": "66c90b49-4a96-4d37-8651-ca222358389d",
        "outputId": "f1d098e6-8d89-4918-c6ef-dfa8d7779b28"
      },
      "outputs": [
        {
          "output_type": "execute_result",
          "data": {
            "text/plain": [
              "2.5"
            ]
          },
          "metadata": {},
          "execution_count": 32
        }
      ],
      "source": [
        "# True divison operator\n",
        "5 / 2"
      ]
    },
    {
      "cell_type": "code",
      "execution_count": null,
      "id": "1ccd32a7-07c3-435f-bb45-7d0a0da6b541",
      "metadata": {
        "colab": {
          "base_uri": "https://localhost:8080/"
        },
        "id": "1ccd32a7-07c3-435f-bb45-7d0a0da6b541",
        "outputId": "fe1edcd1-be37-4acf-a788-20c2e4f823f4"
      },
      "outputs": [
        {
          "output_type": "execute_result",
          "data": {
            "text/plain": [
              "2"
            ]
          },
          "metadata": {},
          "execution_count": 33
        }
      ],
      "source": [
        "# Floor division operator\n",
        "5 // 2"
      ]
    },
    {
      "cell_type": "markdown",
      "id": "9e4d717b-1594-46be-b1e2-ab75522c8b5d",
      "metadata": {
        "id": "9e4d717b-1594-46be-b1e2-ab75522c8b5d"
      },
      "source": [
        "We can also perform exponentiation by using the \\*\\* operator:"
      ]
    },
    {
      "cell_type": "code",
      "execution_count": null,
      "id": "8c8aaaca-a1ff-4a60-b1b3-90ec3ee097cc",
      "metadata": {
        "colab": {
          "base_uri": "https://localhost:8080/"
        },
        "id": "8c8aaaca-a1ff-4a60-b1b3-90ec3ee097cc",
        "outputId": "9085817c-f5e9-428e-c7fd-8089de8ad7e5"
      },
      "outputs": [
        {
          "output_type": "execute_result",
          "data": {
            "text/plain": [
              "25"
            ]
          },
          "metadata": {},
          "execution_count": 34
        }
      ],
      "source": [
        "5 ** 2"
      ]
    },
    {
      "cell_type": "markdown",
      "id": "5d83f3be-e424-4510-a55b-34d0a62793d9",
      "metadata": {
        "id": "5d83f3be-e424-4510-a55b-34d0a62793d9"
      },
      "source": [
        "Finally, we can attempt to force values to become integers by using the `int()` command, though not all values can be made into integers:"
      ]
    },
    {
      "cell_type": "code",
      "execution_count": null,
      "id": "a77d9a50-56d3-407c-b004-e7b868fbfe5f",
      "metadata": {
        "colab": {
          "base_uri": "https://localhost:8080/"
        },
        "id": "a77d9a50-56d3-407c-b004-e7b868fbfe5f",
        "outputId": "07420495-bcf8-48c0-aa14-4156d1a03855"
      },
      "outputs": [
        {
          "output_type": "execute_result",
          "data": {
            "text/plain": [
              "37"
            ]
          },
          "metadata": {},
          "execution_count": 35
        }
      ],
      "source": [
        "int(37.5)"
      ]
    },
    {
      "cell_type": "code",
      "execution_count": null,
      "id": "b9c9231f-f073-4f84-83ca-39848fedeac6",
      "metadata": {
        "colab": {
          "base_uri": "https://localhost:8080/"
        },
        "id": "b9c9231f-f073-4f84-83ca-39848fedeac6",
        "outputId": "f65eaf98-aa06-4d5a-e8fb-5ff3a9cbeb68"
      },
      "outputs": [
        {
          "output_type": "execute_result",
          "data": {
            "text/plain": [
              "1"
            ]
          },
          "metadata": {},
          "execution_count": 36
        }
      ],
      "source": [
        "int(True)"
      ]
    },
    {
      "cell_type": "code",
      "execution_count": null,
      "id": "f269eae0-d1ce-411f-b73a-21e1067d5bbc",
      "metadata": {
        "colab": {
          "base_uri": "https://localhost:8080/"
        },
        "id": "f269eae0-d1ce-411f-b73a-21e1067d5bbc",
        "outputId": "7960ff1d-fb2a-41e5-ba2c-d22b883aa513"
      },
      "outputs": [
        {
          "output_type": "execute_result",
          "data": {
            "text/plain": [
              "0"
            ]
          },
          "metadata": {},
          "execution_count": 37
        }
      ],
      "source": [
        "int(False)"
      ]
    },
    {
      "cell_type": "code",
      "execution_count": null,
      "id": "3cf13aaa-9e29-4c3a-9535-aafeeef97b56",
      "metadata": {
        "colab": {
          "base_uri": "https://localhost:8080/",
          "height": 141
        },
        "id": "3cf13aaa-9e29-4c3a-9535-aafeeef97b56",
        "outputId": "775845b8-38ea-49e1-8c3a-3946f939e913"
      },
      "outputs": [
        {
          "output_type": "error",
          "ename": "ValueError",
          "evalue": "invalid literal for int() with base 10: 'text'",
          "traceback": [
            "\u001b[0;31m---------------------------------------------------------------------------\u001b[0m",
            "\u001b[0;31mValueError\u001b[0m                                Traceback (most recent call last)",
            "\u001b[0;32m<ipython-input-38-f3a57c1fa0db>\u001b[0m in \u001b[0;36m<cell line: 1>\u001b[0;34m()\u001b[0m\n\u001b[0;32m----> 1\u001b[0;31m \u001b[0mint\u001b[0m\u001b[0;34m(\u001b[0m\u001b[0;34m\"text\"\u001b[0m\u001b[0;34m)\u001b[0m\u001b[0;34m\u001b[0m\u001b[0;34m\u001b[0m\u001b[0m\n\u001b[0m",
            "\u001b[0;31mValueError\u001b[0m: invalid literal for int() with base 10: 'text'"
          ]
        }
      ],
      "source": [
        "int(\"text\")"
      ]
    },
    {
      "cell_type": "markdown",
      "id": "786904f8-2e83-4881-b84a-8cdfb6f067ec",
      "metadata": {
        "id": "786904f8-2e83-4881-b84a-8cdfb6f067ec"
      },
      "source": [
        "### Floating-Point Numbers\n",
        "\n",
        "Floating point numbers are typically called **floats**, and allow us to make use of decimal numbers in order to increase the precision of our computations. Floats are probably the most common type of number you will work with, since most mathematical operations cannot be guaranteed to result in integers. Floats can use all of the same arithmetic operators as integers, and can be used in combination with integers when using those operators:"
      ]
    },
    {
      "cell_type": "code",
      "execution_count": null,
      "id": "f76fb3f5-2d02-403a-9991-fc268ee5cf30",
      "metadata": {
        "colab": {
          "base_uri": "https://localhost:8080/"
        },
        "id": "f76fb3f5-2d02-403a-9991-fc268ee5cf30",
        "outputId": "4d00fcee-288c-40cc-8738-2bb0c8d2254d"
      },
      "outputs": [
        {
          "output_type": "execute_result",
          "data": {
            "text/plain": [
              "4.5"
            ]
          },
          "metadata": {},
          "execution_count": 39
        }
      ],
      "source": [
        "2 + 2.5"
      ]
    },
    {
      "cell_type": "code",
      "execution_count": null,
      "id": "ece3a4a2-1c91-4bbb-9df1-a3d5a4bf6e87",
      "metadata": {
        "colab": {
          "base_uri": "https://localhost:8080/"
        },
        "id": "ece3a4a2-1c91-4bbb-9df1-a3d5a4bf6e87",
        "outputId": "541585bd-82f3-4ce1-b874-36666311d43a"
      },
      "outputs": [
        {
          "output_type": "execute_result",
          "data": {
            "text/plain": [
              "-13.5"
            ]
          },
          "metadata": {},
          "execution_count": 40
        }
      ],
      "source": [
        "87.0 - 100.5"
      ]
    },
    {
      "cell_type": "code",
      "execution_count": null,
      "id": "33bca277-06ff-4579-9411-f8efc58ee79f",
      "metadata": {
        "colab": {
          "base_uri": "https://localhost:8080/"
        },
        "id": "33bca277-06ff-4579-9411-f8efc58ee79f",
        "outputId": "ca77c805-f9c9-44cb-f3fe-48201cbc2e91"
      },
      "outputs": [
        {
          "output_type": "execute_result",
          "data": {
            "text/plain": [
              "2.857142857142857"
            ]
          },
          "metadata": {},
          "execution_count": 41
        }
      ],
      "source": [
        "10 / 3.5"
      ]
    },
    {
      "cell_type": "code",
      "execution_count": null,
      "id": "ab092b21-1c5e-4f1e-9386-2be4860dac60",
      "metadata": {
        "colab": {
          "base_uri": "https://localhost:8080/"
        },
        "id": "ab092b21-1c5e-4f1e-9386-2be4860dac60",
        "outputId": "15d48867-be66-4754-c1e6-5c77e3a0e20d"
      },
      "outputs": [
        {
          "output_type": "execute_result",
          "data": {
            "text/plain": [
              "4.0"
            ]
          },
          "metadata": {},
          "execution_count": 42
        }
      ],
      "source": [
        "5.3 // 1.2"
      ]
    },
    {
      "cell_type": "code",
      "execution_count": null,
      "id": "ceda5e5e-acc5-49bf-b9b7-53a214bbb1b8",
      "metadata": {
        "colab": {
          "base_uri": "https://localhost:8080/"
        },
        "id": "ceda5e5e-acc5-49bf-b9b7-53a214bbb1b8",
        "outputId": "c9072d6b-6ee6-4701-d3eb-8dffa759395b"
      },
      "outputs": [
        {
          "output_type": "execute_result",
          "data": {
            "text/plain": [
              "49.95"
            ]
          },
          "metadata": {},
          "execution_count": 43
        }
      ],
      "source": [
        "9.99 * 5"
      ]
    },
    {
      "cell_type": "code",
      "execution_count": null,
      "id": "703f9353-c637-461a-90e6-fee576233a52",
      "metadata": {
        "colab": {
          "base_uri": "https://localhost:8080/"
        },
        "id": "703f9353-c637-461a-90e6-fee576233a52",
        "outputId": "84669f87-efc8-4b3b-d72f-8be1953660d3"
      },
      "outputs": [
        {
          "output_type": "execute_result",
          "data": {
            "text/plain": [
              "9.86902225"
            ]
          },
          "metadata": {},
          "execution_count": 44
        }
      ],
      "source": [
        "3.1415 ** 2"
      ]
    },
    {
      "cell_type": "markdown",
      "id": "36ee6b4f-402e-4b71-b356-58e82826727d",
      "metadata": {
        "id": "36ee6b4f-402e-4b71-b356-58e82826727d"
      },
      "source": [
        "We can convert numbers and other values to floats by using the `float()` function to **coerce** the value to become a float-type object:"
      ]
    },
    {
      "cell_type": "code",
      "execution_count": null,
      "id": "ce7f13df-225b-4d87-a600-b58dde52c7ac",
      "metadata": {
        "colab": {
          "base_uri": "https://localhost:8080/"
        },
        "id": "ce7f13df-225b-4d87-a600-b58dde52c7ac",
        "outputId": "ff09f96e-5977-43ad-f9c3-991d6e9945d5"
      },
      "outputs": [
        {
          "output_type": "execute_result",
          "data": {
            "text/plain": [
              "1.0"
            ]
          },
          "metadata": {},
          "execution_count": 45
        }
      ],
      "source": [
        "float(1)"
      ]
    },
    {
      "cell_type": "code",
      "execution_count": null,
      "id": "1fa47829-e734-4b2f-8e61-7e54833b5723",
      "metadata": {
        "colab": {
          "base_uri": "https://localhost:8080/"
        },
        "id": "1fa47829-e734-4b2f-8e61-7e54833b5723",
        "outputId": "3e27e573-3aa6-4ec0-934b-04f9458de0a7"
      },
      "outputs": [
        {
          "output_type": "execute_result",
          "data": {
            "text/plain": [
              "0.0"
            ]
          },
          "metadata": {},
          "execution_count": 46
        }
      ],
      "source": [
        "float(False)"
      ]
    },
    {
      "cell_type": "code",
      "execution_count": null,
      "id": "a6ea464e-8320-4fd1-b7cf-8409d11a0993",
      "metadata": {
        "colab": {
          "base_uri": "https://localhost:8080/",
          "height": 141
        },
        "id": "a6ea464e-8320-4fd1-b7cf-8409d11a0993",
        "outputId": "4c684168-d444-46fe-bf9c-2180dd03d38b"
      },
      "outputs": [
        {
          "output_type": "error",
          "ename": "ValueError",
          "evalue": "could not convert string to float: 'text'",
          "traceback": [
            "\u001b[0;31m---------------------------------------------------------------------------\u001b[0m",
            "\u001b[0;31mValueError\u001b[0m                                Traceback (most recent call last)",
            "\u001b[0;32m<ipython-input-47-7f533111535f>\u001b[0m in \u001b[0;36m<cell line: 1>\u001b[0;34m()\u001b[0m\n\u001b[0;32m----> 1\u001b[0;31m \u001b[0mfloat\u001b[0m\u001b[0;34m(\u001b[0m\u001b[0;34m\"text\"\u001b[0m\u001b[0;34m)\u001b[0m\u001b[0;34m\u001b[0m\u001b[0;34m\u001b[0m\u001b[0m\n\u001b[0m",
            "\u001b[0;31mValueError\u001b[0m: could not convert string to float: 'text'"
          ]
        }
      ],
      "source": [
        "float(\"text\")"
      ]
    },
    {
      "cell_type": "markdown",
      "id": "6122fdb6-2b78-4846-892b-4e20ed3ad3ae",
      "metadata": {
        "id": "6122fdb6-2b78-4846-892b-4e20ed3ad3ae"
      },
      "source": [
        "### Solve-it!\n",
        "\n",
        "In the cell with the initial comment `#si-sphere`, calculate the volume of a sphere with radius 8. Google the function for calculating the volume of a sphere if needed. PLEASE DO NOT DELETE THE COMMENT OR YOU WILL NOT GET CREDIT.\n",
        "\n",
        "Store the answer in a variable called `vol`. You can test code in the cell below.\n",
        "\n",
        "Note: if you want to check your answer, simply add a line to your script containing `print(vol)`"
      ]
    },
    {
      "cell_type": "code",
      "execution_count": null,
      "id": "ca7ed994-79ca-4192-957e-f496ff3d85f6",
      "metadata": {
        "colab": {
          "base_uri": "https://localhost:8080/"
        },
        "id": "ca7ed994-79ca-4192-957e-f496ff3d85f6",
        "outputId": "f04e8098-4898-48bd-efec-b0ae07ac6c08"
      },
      "outputs": [
        {
          "output_type": "stream",
          "name": "stdout",
          "text": [
            "2144.660584850632\n"
          ]
        }
      ],
      "source": [
        "#si-sphere\n",
        "radius = 8\n",
        "pi  = 3.141592653589793\n",
        "vol = (4/3)* pi * radius**3\n",
        "print(vol)"
      ]
    },
    {
      "cell_type": "markdown",
      "source": [],
      "metadata": {
        "id": "Cun1Nzd46KKL"
      },
      "id": "Cun1Nzd46KKL"
    },
    {
      "cell_type": "markdown",
      "source": [],
      "metadata": {
        "id": "-qx7G7pV6J3s"
      },
      "id": "-qx7G7pV6J3s"
    },
    {
      "cell_type": "markdown",
      "id": "a8207891-984c-41e2-ab44-488a3fd18f3f",
      "metadata": {
        "id": "a8207891-984c-41e2-ab44-488a3fd18f3f"
      },
      "source": [
        "## Boolean Values\n",
        "\n",
        "A boolean object can take one of two values: true or false. This allows us to represent binary cases of truth, and to provide \"on/off\" switches in many different contexts. It is important to note that most objects in Python can be reduced to boolean values:"
      ]
    },
    {
      "cell_type": "code",
      "execution_count": null,
      "id": "90bd1eae-f5f1-4198-95bd-2d41952d2e72",
      "metadata": {
        "colab": {
          "base_uri": "https://localhost:8080/"
        },
        "id": "90bd1eae-f5f1-4198-95bd-2d41952d2e72",
        "outputId": "194fafbd-bbf5-49d8-c912-1de8e49085b7"
      },
      "outputs": [
        {
          "output_type": "execute_result",
          "data": {
            "text/plain": [
              "True"
            ]
          },
          "metadata": {},
          "execution_count": 55
        }
      ],
      "source": [
        "bool(1)"
      ]
    },
    {
      "cell_type": "code",
      "execution_count": null,
      "id": "ae40e3bb-7663-4ea7-a753-a7f7d31b41c8",
      "metadata": {
        "colab": {
          "base_uri": "https://localhost:8080/"
        },
        "id": "ae40e3bb-7663-4ea7-a753-a7f7d31b41c8",
        "outputId": "afcc0d1c-f833-4c83-9ad1-460ad3b58f41"
      },
      "outputs": [
        {
          "output_type": "execute_result",
          "data": {
            "text/plain": [
              "False"
            ]
          },
          "metadata": {},
          "execution_count": 56
        }
      ],
      "source": [
        "bool(0)"
      ]
    },
    {
      "cell_type": "code",
      "execution_count": null,
      "id": "3523346b-43fe-4b02-8994-d390531748d5",
      "metadata": {
        "colab": {
          "base_uri": "https://localhost:8080/"
        },
        "id": "3523346b-43fe-4b02-8994-d390531748d5",
        "outputId": "a5d63524-a350-4891-db87-0fa20ad29765"
      },
      "outputs": [
        {
          "output_type": "execute_result",
          "data": {
            "text/plain": [
              "True"
            ]
          },
          "metadata": {},
          "execution_count": 57
        }
      ],
      "source": [
        "bool(\"text\")"
      ]
    },
    {
      "cell_type": "code",
      "execution_count": null,
      "id": "e8ea0c4a-f816-4080-82a1-89367824a246",
      "metadata": {
        "colab": {
          "base_uri": "https://localhost:8080/"
        },
        "id": "e8ea0c4a-f816-4080-82a1-89367824a246",
        "outputId": "18ed3925-5983-4cc5-ce12-1581fb346cda"
      },
      "outputs": [
        {
          "output_type": "execute_result",
          "data": {
            "text/plain": [
              "False"
            ]
          },
          "metadata": {},
          "execution_count": 58
        }
      ],
      "source": [
        "bool(\"\")"
      ]
    },
    {
      "cell_type": "code",
      "execution_count": null,
      "id": "dcdfabff-1934-45ad-a961-2596a7c285ab",
      "metadata": {
        "colab": {
          "base_uri": "https://localhost:8080/"
        },
        "id": "dcdfabff-1934-45ad-a961-2596a7c285ab",
        "outputId": "102e09d2-a571-4466-f0e7-798e17d33d16"
      },
      "outputs": [
        {
          "output_type": "execute_result",
          "data": {
            "text/plain": [
              "False"
            ]
          },
          "metadata": {},
          "execution_count": 59
        }
      ],
      "source": [
        "bool(None)"
      ]
    },
    {
      "cell_type": "markdown",
      "id": "13804067-1b75-4cb7-9d65-72910b73e254",
      "metadata": {
        "id": "13804067-1b75-4cb7-9d65-72910b73e254"
      },
      "source": [
        "Boolean values are typically used to evaluate logical statements as either true or false, and are often experienced in the context of comparisons of equality or magnitude. In order to make these comparisons, we introduce new operators to our vocabulary: \\>, \\<, \\=\\=, \\!\\=, \\&, \\| are the most common, although many others exist."
      ]
    },
    {
      "cell_type": "code",
      "execution_count": null,
      "id": "a0c296ac-6a4c-48a5-a974-223dc7ba92b3",
      "metadata": {
        "colab": {
          "base_uri": "https://localhost:8080/"
        },
        "id": "a0c296ac-6a4c-48a5-a974-223dc7ba92b3",
        "outputId": "da3a0f69-4c95-4eac-f341-e00c86e48055"
      },
      "outputs": [
        {
          "output_type": "execute_result",
          "data": {
            "text/plain": [
              "False"
            ]
          },
          "metadata": {},
          "execution_count": 60
        }
      ],
      "source": [
        "# Testing for Equality of values\n",
        "\"text\" == \"Text\""
      ]
    },
    {
      "cell_type": "markdown",
      "id": "2bd75a2d-b8f6-4aa4-bd55-12a1c92b7359",
      "metadata": {
        "id": "2bd75a2d-b8f6-4aa4-bd55-12a1c92b7359"
      },
      "source": [
        "Note: strings are case sensitive when testing equality!"
      ]
    },
    {
      "cell_type": "code",
      "execution_count": null,
      "id": "534a3ad8-f746-47f3-972a-ea818dd2b33a",
      "metadata": {
        "colab": {
          "base_uri": "https://localhost:8080/"
        },
        "id": "534a3ad8-f746-47f3-972a-ea818dd2b33a",
        "outputId": "ea605146-9f27-4572-ce6d-fffe76389b84"
      },
      "outputs": [
        {
          "output_type": "execute_result",
          "data": {
            "text/plain": [
              "True"
            ]
          },
          "metadata": {},
          "execution_count": 61
        }
      ],
      "source": [
        "300 == 45+255"
      ]
    },
    {
      "cell_type": "code",
      "execution_count": null,
      "id": "0596b507-c712-47f5-bdd0-7e392ff06a73",
      "metadata": {
        "colab": {
          "base_uri": "https://localhost:8080/"
        },
        "id": "0596b507-c712-47f5-bdd0-7e392ff06a73",
        "outputId": "1eee2636-c0ce-4895-f04d-7bfe90b8da75"
      },
      "outputs": [
        {
          "output_type": "execute_result",
          "data": {
            "text/plain": [
              "True"
            ]
          },
          "metadata": {},
          "execution_count": 62
        }
      ],
      "source": [
        "# Testing Inequalities\n",
        "10 < 100"
      ]
    },
    {
      "cell_type": "code",
      "execution_count": null,
      "id": "a747dba4-2f81-4f97-ad36-0b7794a6deaf",
      "metadata": {
        "colab": {
          "base_uri": "https://localhost:8080/"
        },
        "id": "a747dba4-2f81-4f97-ad36-0b7794a6deaf",
        "outputId": "738332e5-6810-45a6-c439-3bdecf4b38f0"
      },
      "outputs": [
        {
          "output_type": "execute_result",
          "data": {
            "text/plain": [
              "False"
            ]
          },
          "metadata": {},
          "execution_count": 63
        }
      ],
      "source": [
        "10 > 100"
      ]
    },
    {
      "cell_type": "code",
      "execution_count": null,
      "id": "6f4503e3-a10b-4565-899c-0b800682add9",
      "metadata": {
        "colab": {
          "base_uri": "https://localhost:8080/"
        },
        "id": "6f4503e3-a10b-4565-899c-0b800682add9",
        "outputId": "54f5dcba-34c2-48b1-df45-fda7399bb396"
      },
      "outputs": [
        {
          "output_type": "execute_result",
          "data": {
            "text/plain": [
              "True"
            ]
          },
          "metadata": {},
          "execution_count": 64
        }
      ],
      "source": [
        "# We can also test for \"less than or equal to\" conditions:\n",
        "10 <= 11"
      ]
    },
    {
      "cell_type": "code",
      "execution_count": null,
      "id": "54e93933-45d9-4cce-9998-b983301078be",
      "metadata": {
        "colab": {
          "base_uri": "https://localhost:8080/"
        },
        "id": "54e93933-45d9-4cce-9998-b983301078be",
        "outputId": "9f011497-1921-438a-b9c9-20b43635e06b"
      },
      "outputs": [
        {
          "output_type": "execute_result",
          "data": {
            "text/plain": [
              "True"
            ]
          },
          "metadata": {},
          "execution_count": 65
        }
      ],
      "source": [
        "11 <= 11"
      ]
    },
    {
      "cell_type": "code",
      "execution_count": null,
      "id": "dd146874-48d2-4de2-b2d3-3e3fa70ea1af",
      "metadata": {
        "colab": {
          "base_uri": "https://localhost:8080/"
        },
        "id": "dd146874-48d2-4de2-b2d3-3e3fa70ea1af",
        "outputId": "52ef8ee9-3c86-49b5-9120-c46f18174be5"
      },
      "outputs": [
        {
          "output_type": "execute_result",
          "data": {
            "text/plain": [
              "True"
            ]
          },
          "metadata": {},
          "execution_count": 66
        }
      ],
      "source": [
        "# Inequality\n",
        "\n",
        "42 != \"the meaning of life, the universe, and everything\""
      ]
    },
    {
      "cell_type": "code",
      "execution_count": null,
      "id": "f1d4990a-d2c6-4b89-9b9d-121dcc5b189c",
      "metadata": {
        "colab": {
          "base_uri": "https://localhost:8080/"
        },
        "id": "f1d4990a-d2c6-4b89-9b9d-121dcc5b189c",
        "outputId": "27e35a9f-0e7e-48f6-f200-975deae4a707"
      },
      "outputs": [
        {
          "output_type": "execute_result",
          "data": {
            "text/plain": [
              "False"
            ]
          },
          "metadata": {},
          "execution_count": 67
        }
      ],
      "source": [
        "# Match multiple conditions\n",
        "\n",
        "(42 == 10 + 32) & (\"other text\" != \"other text\") # False because one condition is not met"
      ]
    },
    {
      "cell_type": "code",
      "execution_count": null,
      "id": "eabd00f1-bf56-463a-89e5-5e5c0cf0e134",
      "metadata": {
        "colab": {
          "base_uri": "https://localhost:8080/"
        },
        "id": "eabd00f1-bf56-463a-89e5-5e5c0cf0e134",
        "outputId": "8b939c75-bedd-4d1f-9a4f-b9803d7ef9a2"
      },
      "outputs": [
        {
          "output_type": "execute_result",
          "data": {
            "text/plain": [
              "True"
            ]
          },
          "metadata": {},
          "execution_count": 73
        }
      ],
      "source": [
        "(42 == 10 + 32) & (\"text\" != \"other text\")"
      ]
    },
    {
      "cell_type": "code",
      "execution_count": null,
      "id": "f235a1fc-a5b4-495a-b7b2-bc6890ac7fb7",
      "metadata": {
        "colab": {
          "base_uri": "https://localhost:8080/"
        },
        "id": "f235a1fc-a5b4-495a-b7b2-bc6890ac7fb7",
        "outputId": "a9138f12-8769-43e2-e33e-0dfd44376869"
      },
      "outputs": [
        {
          "output_type": "execute_result",
          "data": {
            "text/plain": [
              "True"
            ]
          },
          "metadata": {},
          "execution_count": 74
        }
      ],
      "source": [
        "# Match one or more conditions\n",
        "\n",
        "(42 == 10 + 32) | (\"other text\" != \"other text\") # False because one condition is not met"
      ]
    },
    {
      "cell_type": "code",
      "execution_count": null,
      "id": "30d177c2-4ba8-4c93-9bd6-6afff74d420c",
      "metadata": {
        "colab": {
          "base_uri": "https://localhost:8080/"
        },
        "id": "30d177c2-4ba8-4c93-9bd6-6afff74d420c",
        "outputId": "5f3e685f-8785-4a82-ffa1-547526b09931"
      },
      "outputs": [
        {
          "output_type": "execute_result",
          "data": {
            "text/plain": [
              "True"
            ]
          },
          "metadata": {},
          "execution_count": 70
        }
      ],
      "source": [
        "(42 == 10 + 32) | (\"text\" != \"other text\")"
      ]
    },
    {
      "cell_type": "markdown",
      "id": "3a74eaab-92ec-4883-9e48-60f85a54a5b6",
      "metadata": {
        "id": "3a74eaab-92ec-4883-9e48-60f85a54a5b6"
      },
      "source": [
        "### Solve-it!\n",
        "\n",
        "In the cell commented with `#si-sphereOrCube` (below), write a logical expression to determine if the volume of the sphere with radius 8 is greater than the volume of the cube with edge length 12. Deleting the initial comment will cause you to not earn credit.\n",
        "\n",
        "Store the solution as a variable named `sphereOrCube`. Use the cell below to practice or experiment."
      ]
    },
    {
      "cell_type": "code",
      "execution_count": null,
      "id": "d924c375-683b-46d0-baf8-d8a6ac934df4",
      "metadata": {
        "id": "d924c375-683b-46d0-baf8-d8a6ac934df4"
      },
      "outputs": [],
      "source": [
        "#si-sphereOrCube\n",
        "r = 8\n",
        "pi  = 3.141592653589793\n",
        "sphere = (4/3)* pi * r**3\n",
        "el = 12\n",
        "cube = el**3\n",
        "sphereOrCube = sphere > cube"
      ]
    },
    {
      "cell_type": "markdown",
      "id": "460459e4-b0e1-4f87-bb40-5c9b68765ed7",
      "metadata": {
        "id": "460459e4-b0e1-4f87-bb40-5c9b68765ed7"
      },
      "source": [
        "### Solve-it!\n",
        "\n",
        "### In the cell commented with `#si-hei`, write a logical expression to determine if the string \"hei\" is the same as the string \"Hei\". Remember to be PRECISE!\n",
        "\n",
        "Store the solution as a variable named `twinStrings`. Use the cell below to practice."
      ]
    },
    {
      "cell_type": "code",
      "execution_count": null,
      "id": "e3fbd105-2151-4988-8e00-0833e5f4b447",
      "metadata": {
        "id": "e3fbd105-2151-4988-8e00-0833e5f4b447"
      },
      "outputs": [],
      "source": [
        "#si-hei\n",
        "twinStrings = (\"hei\" == \"Hei\")\n"
      ]
    },
    {
      "cell_type": "markdown",
      "id": "598ec8a8-7727-4566-b4e8-67b76338aa33",
      "metadata": {
        "id": "598ec8a8-7727-4566-b4e8-67b76338aa33"
      },
      "source": [
        "## Strings\n",
        "\n",
        "Strings are the data type in Python that is used to store text data, or data that does not fit into other categories and can be best represented as text in some form. This might be text values proxying for job types, it might be sentences written in a document, or it might be a single character, like \"e\". Strings are immensely valuable for creating dense data, and have many built-in features (we call them **methods**) to improve our ability to handle strings. First, we create a string by putting some characters inside of quotation marks.\n",
        "\n",
        "### Choosing Quotation Marks\n",
        "\n",
        "The quotation marks indicating the start and end of strings can be \\\" or \\'. It is worth choosing carefully, however, because the quotation marks we use to denote a string limit the characters that we can place inside. If I use \\\", then double quotes cannot be used within my string (while single quotes can!). Conversely, using \\' to start and end a string means that we cannot use single quotes (often used to mark apostrophes within contractions in the English language) inside of our string."
      ]
    },
    {
      "cell_type": "code",
      "execution_count": null,
      "id": "2e67db51-48cf-405d-ab18-11ce47d3ba08",
      "metadata": {
        "colab": {
          "base_uri": "https://localhost:8080/",
          "height": 36
        },
        "id": "2e67db51-48cf-405d-ab18-11ce47d3ba08",
        "outputId": "5706f4b9-ef5a-4279-8a35-aa23e6074303"
      },
      "outputs": [
        {
          "output_type": "execute_result",
          "data": {
            "text/plain": [
              "'this is a string'"
            ],
            "application/vnd.google.colaboratory.intrinsic+json": {
              "type": "string"
            }
          },
          "metadata": {},
          "execution_count": 89
        }
      ],
      "source": [
        "\"this is a string\""
      ]
    },
    {
      "cell_type": "code",
      "execution_count": null,
      "id": "084775a0-08ac-4cf7-a81f-befdba119d1e",
      "metadata": {
        "colab": {
          "base_uri": "https://localhost:8080/",
          "height": 36
        },
        "id": "084775a0-08ac-4cf7-a81f-befdba119d1e",
        "outputId": "68a3ac67-cbcd-4034-87a5-151f7b34db99"
      },
      "outputs": [
        {
          "output_type": "execute_result",
          "data": {
            "text/plain": [
              "\"this is a string with a 'quote' inside of it\""
            ],
            "application/vnd.google.colaboratory.intrinsic+json": {
              "type": "string"
            }
          },
          "metadata": {},
          "execution_count": 90
        }
      ],
      "source": [
        "\"this is a string with a 'quote' inside of it\""
      ]
    },
    {
      "cell_type": "code",
      "execution_count": null,
      "id": "9c95dddc-c1cf-4bb2-b2f8-1e9255d114e3",
      "metadata": {
        "colab": {
          "base_uri": "https://localhost:8080/",
          "height": 36
        },
        "id": "9c95dddc-c1cf-4bb2-b2f8-1e9255d114e3",
        "outputId": "3e2620e1-aa56-4010-8819-b5fa3207ae83"
      },
      "outputs": [
        {
          "output_type": "execute_result",
          "data": {
            "text/plain": [
              "'also a string'"
            ],
            "application/vnd.google.colaboratory.intrinsic+json": {
              "type": "string"
            }
          },
          "metadata": {},
          "execution_count": 91
        }
      ],
      "source": [
        "'also a string'"
      ]
    },
    {
      "cell_type": "code",
      "execution_count": null,
      "id": "8d1f5486-4b0b-4b28-95e0-146d47bcc7b7",
      "metadata": {
        "colab": {
          "base_uri": "https://localhost:8080/",
          "height": 106
        },
        "id": "8d1f5486-4b0b-4b28-95e0-146d47bcc7b7",
        "outputId": "a7ffbcd2-48bb-4531-b37c-23e0ad1c678d"
      },
      "outputs": [
        {
          "output_type": "error",
          "ename": "SyntaxError",
          "evalue": "unterminated string literal (detected at line 3) (<ipython-input-102-5213d5ca4357>, line 3)",
          "traceback": [
            "\u001b[0;36m  File \u001b[0;32m\"<ipython-input-102-5213d5ca4357>\"\u001b[0;36m, line \u001b[0;32m3\u001b[0m\n\u001b[0;31m    'a broken string y'all'\u001b[0m\n\u001b[0m                          ^\u001b[0m\n\u001b[0;31mSyntaxError\u001b[0m\u001b[0;31m:\u001b[0m unterminated string literal (detected at line 3)\n"
          ]
        }
      ],
      "source": [
        "# a broken string where single quotes are used to mark the string and also within the string itself\n",
        "\n",
        "'a broken string y'all'"
      ]
    },
    {
      "cell_type": "markdown",
      "id": "4014aa5d-6aaf-436e-8e73-76f42bb080d2",
      "metadata": {
        "id": "4014aa5d-6aaf-436e-8e73-76f42bb080d2"
      },
      "source": [
        "Strings can typically only be used on a single line, so that I cannot do the following:"
      ]
    },
    {
      "cell_type": "code",
      "execution_count": null,
      "id": "9a5b0594-7c58-4b84-833b-2e9e63d31b2e",
      "metadata": {
        "colab": {
          "base_uri": "https://localhost:8080/",
          "height": 106
        },
        "id": "9a5b0594-7c58-4b84-833b-2e9e63d31b2e",
        "outputId": "3ccb2fa5-4919-4cbe-9e16-65a450ec3578"
      },
      "outputs": [
        {
          "output_type": "error",
          "ename": "SyntaxError",
          "evalue": "unterminated string literal (detected at line 1) (<ipython-input-103-e0d57ed4327a>, line 1)",
          "traceback": [
            "\u001b[0;36m  File \u001b[0;32m\"<ipython-input-103-e0d57ed4327a>\"\u001b[0;36m, line \u001b[0;32m1\u001b[0m\n\u001b[0;31m    \"my string starts here\u001b[0m\n\u001b[0m    ^\u001b[0m\n\u001b[0;31mSyntaxError\u001b[0m\u001b[0;31m:\u001b[0m unterminated string literal (detected at line 1)\n"
          ]
        }
      ],
      "source": [
        "\"my string starts here\n",
        "and ends here\""
      ]
    },
    {
      "cell_type": "markdown",
      "id": "8203e125-356c-4329-a99d-112d26ea61af",
      "metadata": {
        "id": "8203e125-356c-4329-a99d-112d26ea61af"
      },
      "source": [
        "Special quotation marks can be used to create multiline strings. We use a triple quote system for this, where we mark the start or end of the string with three quotes (can be single or double):"
      ]
    },
    {
      "cell_type": "code",
      "execution_count": null,
      "id": "23abbbaa-4d01-4b67-89ad-724561e84a54",
      "metadata": {
        "colab": {
          "base_uri": "https://localhost:8080/",
          "height": 36
        },
        "id": "23abbbaa-4d01-4b67-89ad-724561e84a54",
        "outputId": "545f4d9d-8ec2-4605-8d19-59d5726c6e52"
      },
      "outputs": [
        {
          "output_type": "execute_result",
          "data": {
            "text/plain": [
              "'my string starts here\\n\\nand ends here'"
            ],
            "application/vnd.google.colaboratory.intrinsic+json": {
              "type": "string"
            }
          },
          "metadata": {},
          "execution_count": 104
        }
      ],
      "source": [
        "\"\"\"my string starts here\n",
        "\n",
        "and ends here\"\"\""
      ]
    },
    {
      "cell_type": "markdown",
      "id": "09453a14-957f-4002-ab61-9b9ee4948122",
      "metadata": {
        "id": "09453a14-957f-4002-ab61-9b9ee4948122"
      },
      "source": [
        "Our string now contains some **escape characters** (\\\\n) that mark where one line ends and the next begins, allowing us to handle text that spans multiple lines. We can even use this to store information like SQL queries that have been formatted for readability!"
      ]
    },
    {
      "cell_type": "code",
      "execution_count": null,
      "id": "718cd78d-f054-4f30-ad09-534cae359aac",
      "metadata": {
        "colab": {
          "base_uri": "https://localhost:8080/",
          "height": 36
        },
        "id": "718cd78d-f054-4f30-ad09-534cae359aac",
        "outputId": "5e1ad12b-655d-4afd-b5f5-5ea77647aa5a"
      },
      "outputs": [
        {
          "output_type": "execute_result",
          "data": {
            "text/plain": [
              "'\\nSELECT\\n    *\\nFROM\\n    database\\nWHERE\\n    column > 0\\n'"
            ],
            "application/vnd.google.colaboratory.intrinsic+json": {
              "type": "string"
            }
          },
          "metadata": {},
          "execution_count": 105
        }
      ],
      "source": [
        "'''\n",
        "SELECT\n",
        "    *\n",
        "FROM\n",
        "    database\n",
        "WHERE\n",
        "    column > 0\n",
        "'''"
      ]
    },
    {
      "cell_type": "markdown",
      "id": "d5333144-1794-4366-9091-9765d9b03f33",
      "metadata": {
        "id": "d5333144-1794-4366-9091-9765d9b03f33"
      },
      "source": [
        "### Operating on Strings\n",
        "\n",
        "Strings can also be modified using operators and **methods**. We are already familiar with operators, and the applicable operators for strings are \\+ and \\*. Methods are **functions**, or pre-existing code that is associated with a specific type of object. First, the operators:"
      ]
    },
    {
      "cell_type": "code",
      "execution_count": null,
      "id": "d26130d8-1dfc-41d2-87b7-a8adb56a148d",
      "metadata": {
        "colab": {
          "base_uri": "https://localhost:8080/",
          "height": 36
        },
        "id": "d26130d8-1dfc-41d2-87b7-a8adb56a148d",
        "outputId": "4897a3ee-91a7-4cce-fca0-88a4b9b1ac6b"
      },
      "outputs": [
        {
          "output_type": "execute_result",
          "data": {
            "text/plain": [
              "'Add this string to another'"
            ],
            "application/vnd.google.colaboratory.intrinsic+json": {
              "type": "string"
            }
          },
          "metadata": {},
          "execution_count": 106
        }
      ],
      "source": [
        "\"Add this string\" + \" \" + \"to another\""
      ]
    },
    {
      "cell_type": "code",
      "execution_count": null,
      "id": "6663c80a-18f3-4edf-9814-13315dbb4508",
      "metadata": {
        "colab": {
          "base_uri": "https://localhost:8080/",
          "height": 36
        },
        "id": "6663c80a-18f3-4edf-9814-13315dbb4508",
        "outputId": "64040e3b-f380-42e1-e3ab-f434fb891517"
      },
      "outputs": [
        {
          "output_type": "execute_result",
          "data": {
            "text/plain": [
              "'Repeat me!Repeat me!Repeat me!'"
            ],
            "application/vnd.google.colaboratory.intrinsic+json": {
              "type": "string"
            }
          },
          "metadata": {},
          "execution_count": 107
        }
      ],
      "source": [
        "\"Repeat me!\" * 3"
      ]
    },
    {
      "cell_type": "markdown",
      "id": "3942654a-f8a2-4601-aa7d-c1a44e00f18b",
      "metadata": {
        "id": "3942654a-f8a2-4601-aa7d-c1a44e00f18b"
      },
      "source": [
        "Methods are called by name, rather than through an operator. Below are some useful methods for strings. Please note that there are MANY others (see [https://docs.python.org/3/library/stdtypes.html#string-methods](https://docs.python.org/3/library/stdtypes.html#string-methods) for more information)"
      ]
    },
    {
      "cell_type": "code",
      "execution_count": null,
      "id": "970c8c8b-7224-4322-86f6-1dd663578c02",
      "metadata": {
        "colab": {
          "base_uri": "https://localhost:8080/",
          "height": 36
        },
        "id": "970c8c8b-7224-4322-86f6-1dd663578c02",
        "outputId": "29a77818-4e16-4b50-8552-8efc22800018"
      },
      "outputs": [
        {
          "output_type": "execute_result",
          "data": {
            "text/plain": [
              "'Bononos'"
            ],
            "application/vnd.google.colaboratory.intrinsic+json": {
              "type": "string"
            }
          },
          "metadata": {},
          "execution_count": 108
        }
      ],
      "source": [
        "# Replacing characters within a string\n",
        "\n",
        "\"Bananas\".replace(\"a\", \"o\")"
      ]
    },
    {
      "cell_type": "code",
      "execution_count": null,
      "id": "41ff9865-c362-43bf-b312-60732e5e9f4f",
      "metadata": {
        "colab": {
          "base_uri": "https://localhost:8080/",
          "height": 36
        },
        "id": "41ff9865-c362-43bf-b312-60732e5e9f4f",
        "outputId": "2cff7cc1-9ff4-4b17-fdbf-f567bd66bc61"
      },
      "outputs": [
        {
          "output_type": "execute_result",
          "data": {
            "text/plain": [
              "'angry words'"
            ],
            "application/vnd.google.colaboratory.intrinsic+json": {
              "type": "string"
            }
          },
          "metadata": {},
          "execution_count": 109
        }
      ],
      "source": [
        "# Converting a string to lower case\n",
        "\n",
        "\"ANGRY WORDS\".lower()"
      ]
    },
    {
      "cell_type": "code",
      "execution_count": null,
      "id": "30fda113-5c0c-4c91-9ec1-770f4273f794",
      "metadata": {
        "colab": {
          "base_uri": "https://localhost:8080/"
        },
        "id": "30fda113-5c0c-4c91-9ec1-770f4273f794",
        "outputId": "dac0abab-7e25-4e43-d7de-14e6211188d1"
      },
      "outputs": [
        {
          "output_type": "execute_result",
          "data": {
            "text/plain": [
              "['Make', 'me', 'into', 'many', 'strings']"
            ]
          },
          "metadata": {},
          "execution_count": 110
        }
      ],
      "source": [
        "# Break a string apart based on a designated character\n",
        "\n",
        "\"Make me into many strings\".split(\" \")"
      ]
    },
    {
      "cell_type": "code",
      "execution_count": null,
      "id": "4c6f2531-1587-4ace-96db-171bfb230848",
      "metadata": {
        "colab": {
          "base_uri": "https://localhost:8080/",
          "height": 36
        },
        "id": "4c6f2531-1587-4ace-96db-171bfb230848",
        "outputId": "ac7fe848-5a7a-4565-ce17-3e358893536e"
      },
      "outputs": [
        {
          "output_type": "execute_result",
          "data": {
            "text/plain": [
              "'too much whitespace!'"
            ],
            "application/vnd.google.colaboratory.intrinsic+json": {
              "type": "string"
            }
          },
          "metadata": {},
          "execution_count": 111
        }
      ],
      "source": [
        "\"    too much whitespace!   \".strip()"
      ]
    },
    {
      "cell_type": "markdown",
      "id": "e73c8f77-bc87-4ca5-8a5c-3d41d50bf1a7",
      "metadata": {
        "id": "e73c8f77-bc87-4ca5-8a5c-3d41d50bf1a7"
      },
      "source": [
        "### Solve-it!\n",
        "\n",
        "Complete the following sentence by using the `replace` method to replace each \"\\_\\_x\\_\\_\" string with a fitting word. Feel free to be silly!\n",
        "\n",
        "If you want to have some fun, choose words before reading the sentence. You will need (in order):\n",
        "- Adjective\n",
        "- Adjective\n",
        "- Noun\n",
        "- Noun\n",
        "- Name of an Animal\n",
        "- Name of a Game\n",
        "\n",
        "Store the resulting sentence as a variable named `myMadLib` in the cell labeled with `#si-madLib` below. Do not delete the comment."
      ]
    },
    {
      "cell_type": "code",
      "execution_count": null,
      "id": "6c541467-b241-40c6-8411-92573dbfc13a",
      "metadata": {
        "colab": {
          "base_uri": "https://localhost:8080/"
        },
        "id": "6c541467-b241-40c6-8411-92573dbfc13a",
        "outputId": "36b24557-8df0-4965-d190-e3af5015d42c"
      },
      "outputs": [
        {
          "output_type": "stream",
          "name": "stdout",
          "text": [
            "\n",
            "A vacation is when you take a trip to some fun place \n",
            "with your silly family. Usually you go to some place that \n",
            "is near a(n) ocean or up on a(n) mountain. A good vacation \n",
            "place is one where you can ride hourses or play Catan.\n",
            "\n"
          ]
        }
      ],
      "source": [
        "#si-madLib\n",
        "\n",
        "myMadLib = \"\"\"\n",
        "A vacation is when you take a trip to some __1__ place\n",
        "with your __2__ family. Usually you go to some place that\n",
        "is near a(n) __3__ or up on a(n) __4__. A good vacation\n",
        "place is one where you can ride __5__ or play __6__.\n",
        "\"\"\".replace(\"__1__\", \"fun\").replace(\"__2__\" , \"silly\").replace(\"__3__\" , \"ocean\").replace(\"__4__\" , \"mountain\").replace(\"__5__\" , \"hourses\").replace(\"__6__\" , \"Catan\")\n",
        "print(myMadLib)"
      ]
    },
    {
      "cell_type": "markdown",
      "id": "cdb67faf-2187-4091-a763-47afc80a46f2",
      "metadata": {
        "id": "cdb67faf-2187-4091-a763-47afc80a46f2"
      },
      "source": [
        "## Lists\n",
        "\n",
        "Lists are the first of several data types that allow us to organize and store many different values within them. A list, as its name suggests, is an object in which a _list_ of values are stored. Each value can then be accessed by its position within the list.\n",
        "\n",
        "**REALLY IMPORTANT**: Positions in Python (and almost all programming languages) begin counting at 0, so that the first thing in a list is the 0th thing in the list. To remember this, remember that the first element in a list is ZERO elements removed from the start. We are counting how far from the start of the list we are, and the distance between the first element in a list and itself is 0!\n",
        "\n",
        "So how do we make a list? with \\[ \\] characters marking the start and end of the list, respectively, and with commas (,) in between the elements."
      ]
    },
    {
      "cell_type": "code",
      "execution_count": null,
      "id": "53e2caad-777b-4164-9311-87482d417bfb",
      "metadata": {
        "colab": {
          "base_uri": "https://localhost:8080/"
        },
        "id": "53e2caad-777b-4164-9311-87482d417bfb",
        "outputId": "5a8042a4-1c57-4690-cd83-79073b2ee421"
      },
      "outputs": [
        {
          "output_type": "execute_result",
          "data": {
            "text/plain": [
              "[0, 1, 2, 3, 4]"
            ]
          },
          "metadata": {},
          "execution_count": 133
        }
      ],
      "source": [
        "_# Handwrite a list\n",
        "\n",
        "[ 0, 1, 2, 3, 4 ]"
      ]
    },
    {
      "cell_type": "code",
      "execution_count": null,
      "id": "a5b77d34-0f53-439f-9c27-82bf5b22672a",
      "metadata": {
        "colab": {
          "base_uri": "https://localhost:8080/"
        },
        "id": "a5b77d34-0f53-439f-9c27-82bf5b22672a",
        "outputId": "4fd2044f-6a91-4d71-c367-ef1a1307111a"
      },
      "outputs": [
        {
          "output_type": "execute_result",
          "data": {
            "text/plain": [
              "[0, 1, 2, 3, 4, 5, 6, 7, 8, 9]"
            ]
          },
          "metadata": {},
          "execution_count": 135
        }
      ],
      "source": [
        "# Use list comprehensions to make a list\n",
        "\n",
        "[x for x in range(10)]"
      ]
    },
    {
      "cell_type": "code",
      "execution_count": null,
      "id": "ac8c304a-f434-4bbe-8914-d3e63c9aa466",
      "metadata": {
        "colab": {
          "base_uri": "https://localhost:8080/"
        },
        "id": "ac8c304a-f434-4bbe-8914-d3e63c9aa466",
        "outputId": "9f32e51f-c329-439f-d9ec-92645efae7de"
      },
      "outputs": [
        {
          "output_type": "execute_result",
          "data": {
            "text/plain": [
              "['Make', 'me', 'into', 'many', 'strings']"
            ]
          },
          "metadata": {},
          "execution_count": 136
        }
      ],
      "source": [
        "# Make a list from a string\n",
        "\n",
        "\"Make me into many strings\".split(\" \")"
      ]
    },
    {
      "cell_type": "markdown",
      "id": "31d4a5c1-ac3f-4029-b990-9178bcb8bb69",
      "metadata": {
        "id": "31d4a5c1-ac3f-4029-b990-9178bcb8bb69"
      },
      "source": [
        "### What's in a list?\n",
        "\n",
        "Anything! Lists can consist of numbers, strings, boolean values, or other lists, and more! They can contain these elements in any order or combination."
      ]
    },
    {
      "cell_type": "code",
      "execution_count": null,
      "id": "17acdb5c-99e3-4dca-81f4-0ccadec4534d",
      "metadata": {
        "colab": {
          "base_uri": "https://localhost:8080/"
        },
        "id": "17acdb5c-99e3-4dca-81f4-0ccadec4534d",
        "outputId": "6be1b2de-6a52-4027-a4fd-d93cf8fd2ea3"
      },
      "outputs": [
        {
          "output_type": "execute_result",
          "data": {
            "text/plain": [
              "['a number',\n",
              " 3,\n",
              " ['another list', 'with three strings', 'inside the first one!']]"
            ]
          },
          "metadata": {},
          "execution_count": 138
        }
      ],
      "source": [
        "[\"a number\", 3, [\"another list\", \"with three strings\", \"inside the first one!\"]]"
      ]
    },
    {
      "cell_type": "markdown",
      "id": "b3b32757-5a91-4d85-83dc-af6a75ac642a",
      "metadata": {
        "id": "b3b32757-5a91-4d85-83dc-af6a75ac642a"
      },
      "source": [
        "### Finding elements of a list\n",
        "\n",
        "Within a list, we can use **slicing** to find specific elements or to reference a specific position within a list. First, let's make a list to play with by **storing** a list. We can **store** a list (or any other object) in memory by assigning it a name using the \\= symbol. After we have given an object a name, we can refer to that object by its name whenever we want to make use of the object. There are some simple rules for naming things in Python:\n",
        "\n",
        "- Variable names must consist of letters, numbers, and underscores only.\n",
        "- Periods CANNOT be part of variable names (helpful advice for any recovering R users out there...)\n",
        "- Variable names typically begin with lower case letters, and CANNOT begin with numbers.\n",
        "- If you want to use multiple words in a variable name, separate the words with underscores (\\_) or by capitalizing all but the first word (called **camel casing**)\n",
        "- While you can use any word you want for a variable's name, you should avoid [reserve words](https://stackoverflow.com/questions/22864221/is-the-list-of-python-reserved-words-and-builtins-available-in-a-library) wherever possible."
      ]
    },
    {
      "cell_type": "code",
      "execution_count": null,
      "id": "8dc87eee-090b-4b56-8b7d-7f2e77185fcc",
      "metadata": {
        "colab": {
          "base_uri": "https://localhost:8080/"
        },
        "id": "8dc87eee-090b-4b56-8b7d-7f2e77185fcc",
        "outputId": "3afa34db-a8be-4d1a-f2f4-b23f33b523df"
      },
      "outputs": [
        {
          "output_type": "stream",
          "name": "stdout",
          "text": [
            "[0, 1, 2, 3, 4, 5, 6, 7, 8, 9]\n"
          ]
        }
      ],
      "source": [
        "firstList = [x for x in range(10)]\n",
        "print(firstList)"
      ]
    },
    {
      "cell_type": "markdown",
      "id": "c016d0d1-affe-4655-98ad-e90ef32b9825",
      "metadata": {
        "id": "c016d0d1-affe-4655-98ad-e90ef32b9825"
      },
      "source": [
        "Now that we have created and stored a list, let's **slice** it up! When **slicing**, we will use the variable name followed by square brackets (\\[ and \\]) with values in between them to denote what we want to extract from the list. To get the first element in our stored list, we can use the following code:"
      ]
    },
    {
      "cell_type": "code",
      "execution_count": null,
      "id": "74d317ea-6533-459f-b192-4a31ffb91b57",
      "metadata": {
        "colab": {
          "base_uri": "https://localhost:8080/"
        },
        "id": "74d317ea-6533-459f-b192-4a31ffb91b57",
        "outputId": "da26a08f-6070-4b74-8fea-1dfe01cf0819"
      },
      "outputs": [
        {
          "output_type": "execute_result",
          "data": {
            "text/plain": [
              "0"
            ]
          },
          "metadata": {},
          "execution_count": 159
        }
      ],
      "source": [
        "firstList[0]"
      ]
    },
    {
      "cell_type": "markdown",
      "id": "d1a090fc-138d-423d-8b03-24b930e1851a",
      "metadata": {
        "id": "d1a090fc-138d-423d-8b03-24b930e1851a"
      },
      "source": [
        "Remember, lists are **zero-indexed** (the first thing is the 0th thing)! We can also grab more than one element at a time. Our list currently has 10 elements (you can see the whole list by removing the slicing notation from the line above and running the line again), but we might want to extract the first 5."
      ]
    },
    {
      "cell_type": "code",
      "execution_count": null,
      "id": "06bb9d01-0215-4df3-97f0-de586a7e7d83",
      "metadata": {
        "colab": {
          "base_uri": "https://localhost:8080/"
        },
        "id": "06bb9d01-0215-4df3-97f0-de586a7e7d83",
        "outputId": "6fa8d34b-15fd-4500-e456-942aba468e7a"
      },
      "outputs": [
        {
          "output_type": "execute_result",
          "data": {
            "text/plain": [
              "[0, 1, 2, 3, 4]"
            ]
          },
          "metadata": {},
          "execution_count": 160
        }
      ],
      "source": [
        "firstList[0:5]"
      ]
    },
    {
      "cell_type": "markdown",
      "id": "ff8b366a-f48e-4f61-9a36-5aeee6705310",
      "metadata": {
        "id": "ff8b366a-f48e-4f61-9a36-5aeee6705310"
      },
      "source": [
        "When we use notation like `[0:5]`, we are explaining to python that we want all elements beginning with the 0th element, but whose position is less than 5. This will retrieve elements 0, 1, 2, 3, and 4, as you can see from our output. We can also write with fewer characters, and use equivalent notation like `[:5]`.\n",
        "\n",
        "**Question**: If `[:5]` gets everything from the start of the list until the 5th element, what do you think that `[5:]` would provide?\n"
      ]
    },
    {
      "cell_type": "code",
      "execution_count": null,
      "id": "64402f77-7a34-4f43-8209-1c34222b3fbb",
      "metadata": {
        "colab": {
          "base_uri": "https://localhost:8080/"
        },
        "id": "64402f77-7a34-4f43-8209-1c34222b3fbb",
        "outputId": "ba05db67-03fe-4459-e93c-3ea26a1932ec"
      },
      "outputs": [
        {
          "output_type": "execute_result",
          "data": {
            "text/plain": [
              "[5, 6, 7, 8, 9]"
            ]
          },
          "metadata": {},
          "execution_count": 161
        }
      ],
      "source": [
        "firstList[5:]"
      ]
    },
    {
      "cell_type": "markdown",
      "id": "9111c5cd-11cd-40ce-90a3-d3439540bbe7",
      "metadata": {
        "id": "9111c5cd-11cd-40ce-90a3-d3439540bbe7"
      },
      "source": [
        "That's right! `[5:]` will extract the elements from the 6th position (6-1=5) to the end of the list. This comes in REALLY handy when we may not know ahead of time how many elements are in a list, but we still need to tell Python what to do. We can even do some fancy footwork, and have our slicing syntax help us grab every other element from the list, rather than all the elements!"
      ]
    },
    {
      "cell_type": "code",
      "execution_count": null,
      "id": "40fccba6-c294-45c1-9201-cbedcfaf8dbf",
      "metadata": {
        "colab": {
          "base_uri": "https://localhost:8080/"
        },
        "id": "40fccba6-c294-45c1-9201-cbedcfaf8dbf",
        "outputId": "26619952-803c-4d33-d0ec-b3df22dcb8b7"
      },
      "outputs": [
        {
          "output_type": "execute_result",
          "data": {
            "text/plain": [
              "[0, 2, 4, 6, 8]"
            ]
          },
          "metadata": {},
          "execution_count": 162
        }
      ],
      "source": [
        "firstList[::2] # or firstList[0::2] or firstList[0:10:2] -- All three commands are equivalent for our list"
      ]
    },
    {
      "cell_type": "markdown",
      "id": "1fa29123-0f47-452f-ba7c-b0b1c3e02481",
      "metadata": {
        "id": "1fa29123-0f47-452f-ba7c-b0b1c3e02481"
      },
      "source": [
        "Pretty awesome, right?\n",
        "\n",
        "### List operators and methods\n",
        "\n",
        "Lists can use the operators \\+ and \\*, similar to strings. The \\+ operator can be used to **concatenate** two lists together, and the \\* operator can be used to repeat a list, just like with strings:"
      ]
    },
    {
      "cell_type": "code",
      "execution_count": null,
      "id": "0c524146-80aa-4f7e-9db3-389ab6797e20",
      "metadata": {
        "colab": {
          "base_uri": "https://localhost:8080/"
        },
        "id": "0c524146-80aa-4f7e-9db3-389ab6797e20",
        "outputId": "d8c2bb7a-2775-4531-d7a9-a59cca961034"
      },
      "outputs": [
        {
          "output_type": "execute_result",
          "data": {
            "text/plain": [
              "[0, 1, 2, 3, 4, 5, 6, 7, 8, 9, 'textGoesHere', 'moreTextHere']"
            ]
          },
          "metadata": {},
          "execution_count": 164
        }
      ],
      "source": [
        "firstList + ['textGoesHere', 'moreTextHere']"
      ]
    },
    {
      "cell_type": "code",
      "execution_count": null,
      "id": "d5f2f710-32a2-45fd-a98e-1bcf24393700",
      "metadata": {
        "colab": {
          "base_uri": "https://localhost:8080/"
        },
        "id": "d5f2f710-32a2-45fd-a98e-1bcf24393700",
        "outputId": "c0f54765-09f2-4a12-d783-5c08263b89dd"
      },
      "outputs": [
        {
          "output_type": "execute_result",
          "data": {
            "text/plain": [
              "[0, 1, 2, 3, 4, 5, 6, 7, 8, 9, 0, 1, 2, 3, 4, 5, 6, 7, 8, 9]"
            ]
          },
          "metadata": {},
          "execution_count": 163
        }
      ],
      "source": [
        "firstList*2"
      ]
    },
    {
      "cell_type": "markdown",
      "id": "313f124e-85ae-40ae-b568-1814efbd6d65",
      "metadata": {
        "id": "313f124e-85ae-40ae-b568-1814efbd6d65"
      },
      "source": [
        "Lists have many useful methods to supplement their functionality. We can use methods to sort lists, add elements, remove elements, find unique values, and much more. For a list of the built-in methods, see [https://docs.python.org/3/tutorial/datastructures.html#more-on-lists](https://docs.python.org/3/tutorial/datastructures.html#more-on-lists)."
      ]
    },
    {
      "cell_type": "code",
      "execution_count": null,
      "id": "4eb82bb0-9163-48e5-8fc5-019f49df0a69",
      "metadata": {
        "id": "4eb82bb0-9163-48e5-8fc5-019f49df0a69"
      },
      "outputs": [],
      "source": [
        "# Add an element to the end of a list - WARNING!! THIS WILL CHANGE YOUR STORED LIST!\n",
        "\n",
        "firstList.append(11)"
      ]
    },
    {
      "cell_type": "code",
      "execution_count": null,
      "id": "0b93d48a-d61e-4713-9b97-3d7543d4e62a",
      "metadata": {
        "colab": {
          "base_uri": "https://localhost:8080/"
        },
        "id": "0b93d48a-d61e-4713-9b97-3d7543d4e62a",
        "outputId": "d65abbba-bc88-4cc3-fde4-8cbb45af3628"
      },
      "outputs": [
        {
          "output_type": "execute_result",
          "data": {
            "text/plain": [
              "11"
            ]
          },
          "metadata": {},
          "execution_count": 166
        }
      ],
      "source": [
        "# Remove an element from the end of a list - WARNING!! THIS WILL CHANGE YOUR STORED LIST!\n",
        "\n",
        "firstList.pop()"
      ]
    },
    {
      "cell_type": "code",
      "execution_count": null,
      "id": "d8a7fb17-2322-4f15-93e3-1f300bf40547",
      "metadata": {
        "id": "d8a7fb17-2322-4f15-93e3-1f300bf40547"
      },
      "outputs": [],
      "source": [
        "# Sort a list - WARNING!! THIS WILL CHANGE YOUR STORED LIST!\n",
        "\n",
        "firstList.sort()"
      ]
    },
    {
      "cell_type": "code",
      "execution_count": null,
      "id": "2031f9f0-6acd-491e-8590-bc9d3eed1030",
      "metadata": {
        "id": "2031f9f0-6acd-491e-8590-bc9d3eed1030"
      },
      "outputs": [],
      "source": [
        "# Sort a list - WARNING!! THIS WILL CHANGE YOUR STORED LIST!\n",
        "\n",
        "firstList.reverse()"
      ]
    },
    {
      "cell_type": "code",
      "execution_count": null,
      "id": "87ae3d8a-bc80-4c44-81b4-a3e158f23fd2",
      "metadata": {
        "colab": {
          "base_uri": "https://localhost:8080/"
        },
        "id": "87ae3d8a-bc80-4c44-81b4-a3e158f23fd2",
        "outputId": "be9ae653-7234-4ce7-fc24-8e05620b139c"
      },
      "outputs": [
        {
          "output_type": "execute_result",
          "data": {
            "text/plain": [
              "10"
            ]
          },
          "metadata": {},
          "execution_count": 241
        }
      ],
      "source": [
        "# Find the length of a list (or of strings, or other data types of arbitrary length)\n",
        "\n",
        "len(firstList)"
      ]
    },
    {
      "cell_type": "markdown",
      "id": "a8414c23-7521-49c1-8bc1-21aa262adbdf",
      "metadata": {
        "id": "a8414c23-7521-49c1-8bc1-21aa262adbdf"
      },
      "source": [
        "### Solve-it!\n",
        "\n",
        "In the cell labeled with the comment `#si-oddsOrEvens` (in this Github repo), write a list containing all numbers up to 50 IN ORDER, where each odd number is negative, and each even number is positive. *Hint: the [modulo operator](https://www.educative.io/edpresso/what-is-a-modulo-operator-in-python) will be really helpful!*\n",
        "\n",
        "Store the resulting list as a variable named `oddsOrEvens`. Do not delete the comment."
      ]
    },
    {
      "cell_type": "code",
      "execution_count": 27,
      "id": "d12e9b05",
      "metadata": {
        "id": "d12e9b05",
        "colab": {
          "base_uri": "https://localhost:8080/"
        },
        "outputId": "d687544f-49da-402d-aaac-234fd26a05fa"
      },
      "outputs": [
        {
          "output_type": "stream",
          "name": "stdout",
          "text": [
            "[-49, -47, -45, -43, -41, -39, -37, -35, -33, -31, -29, -27, -25, -23, -21, -19, -17, -15, -13, -11, -9, -7, -5, -3, -1, 0, 2, 4, 6, 8, 10, 12, 14, 16, 18, 20, 22, 24, 26, 28, 30, 32, 34, 36, 38, 40, 42, 44, 46, 48]\n"
          ]
        }
      ],
      "source": [
        "#si-oddsOrEvens\n",
        "oddsOrEvens = [x if x % 2 == 0 else -x for x in range(0, 50)]\n",
        "oddsOrEvens.sort()\n"
      ]
    },
    {
      "cell_type": "markdown",
      "id": "737d679b-50e9-4e5b-abda-b9ad2061c72b",
      "metadata": {
        "id": "737d679b-50e9-4e5b-abda-b9ad2061c72b"
      },
      "source": [
        "## Dictionaries\n",
        "\n",
        "\n",
        "\n",
        "Dictionaries are powerful objects that do many of the same things as lists, but also include their own nice set of features, making them easier to deal with than lists in many contexts. Like lists, dictionaries can store any number of elements of more or less any type. You can store numbers, strings, lists, and dictionaries within a dictionary (among many other things).\n",
        "\n",
        "Remember that a list is created to be used in order (using the position of their elements as the way to reference the information stored within the list). Dictionaries have a different structure. Every element of a dictionary is stored in what is called a **key-value pair**.\n",
        "\n",
        "**Key-value pair** refers to the fact that every element in a dictionary is assigned a name (a **key**) which is then associated with the **value** to be stored within the dictionary. When we want to find a specific element within a dictionary, we access it by providing the **key** that pairs with the value that we are interested in.\n",
        "\n",
        "Let's create a dictionary called `studentRecord`, and put some information about an imaginary student inside of it. We will store the student's name, age, and GPA."
      ]
    },
    {
      "cell_type": "code",
      "execution_count": null,
      "id": "554123cd-ab35-4290-95dc-53a3fca5fd08",
      "metadata": {
        "id": "554123cd-ab35-4290-95dc-53a3fca5fd08"
      },
      "outputs": [],
      "source": [
        "studentRecord = {\n",
        "    'name' : 'Dusty White',\n",
        "    'age' : 32,\n",
        "    'GPA' : 3.45\n",
        "}"
      ]
    },
    {
      "cell_type": "markdown",
      "id": "58061f2b-53e0-4591-84fc-cebb9ea35f8f",
      "metadata": {
        "id": "58061f2b-53e0-4591-84fc-cebb9ea35f8f"
      },
      "source": [
        "When we want to reference a single value from our dictionary, we can do so by providing the key that corresponds to the value we would like to extract within square brackets (\\[ \\])."
      ]
    },
    {
      "cell_type": "code",
      "execution_count": null,
      "id": "9ecb01cf-e6e4-4609-86bc-c4b3af0dacc9",
      "metadata": {
        "colab": {
          "base_uri": "https://localhost:8080/"
        },
        "id": "9ecb01cf-e6e4-4609-86bc-c4b3af0dacc9",
        "outputId": "7feb9ae1-3799-4221-9aa4-69a3923a3d17"
      },
      "outputs": [
        {
          "output_type": "execute_result",
          "data": {
            "text/plain": [
              "32"
            ]
          },
          "metadata": {},
          "execution_count": 202
        }
      ],
      "source": [
        "studentRecord['age']"
      ]
    },
    {
      "cell_type": "markdown",
      "id": "b591b662-a922-48d9-9015-f8f42814b7f1",
      "metadata": {
        "id": "b591b662-a922-48d9-9015-f8f42814b7f1"
      },
      "source": [
        "Let's update this record to contain a list of courses taken by the student:"
      ]
    },
    {
      "cell_type": "code",
      "execution_count": null,
      "id": "8983f628-7a72-459e-bfe1-e847191e7bba",
      "metadata": {
        "id": "8983f628-7a72-459e-bfe1-e847191e7bba"
      },
      "outputs": [],
      "source": [
        "studentRecord['courseHistory'] = [\"Econ\", \"Math\", \"Chem\"]"
      ]
    },
    {
      "cell_type": "markdown",
      "id": "56134b00-0ee7-444f-bfe0-a2c9936cda67",
      "metadata": {
        "id": "56134b00-0ee7-444f-bfe0-a2c9936cda67"
      },
      "source": [
        "Now, when we look at the entire dictionary, we will see the following:"
      ]
    },
    {
      "cell_type": "code",
      "execution_count": null,
      "id": "a7f7cd4c-5455-4379-92c4-88a6bc02575b",
      "metadata": {
        "colab": {
          "base_uri": "https://localhost:8080/"
        },
        "id": "a7f7cd4c-5455-4379-92c4-88a6bc02575b",
        "outputId": "d5783330-07ce-4cad-be48-d634af5f18e6"
      },
      "outputs": [
        {
          "output_type": "execute_result",
          "data": {
            "text/plain": [
              "{'name': 'Dusty White',\n",
              " 'age': 32,\n",
              " 'GPA': 3.45,\n",
              " 'courseHistory': ['Econ', 'Math', 'Chem']}"
            ]
          },
          "metadata": {},
          "execution_count": 210
        }
      ],
      "source": [
        "studentRecord"
      ]
    },
    {
      "cell_type": "markdown",
      "id": "ea057c08-e60c-4009-8c82-623c54d956c6",
      "metadata": {
        "id": "ea057c08-e60c-4009-8c82-623c54d956c6"
      },
      "source": [
        "If we want to reference the second course taken by the student, we can use multiple levels of indexing. First, we reference the key associated with the course list, and then we reference the position of the second course within the list:"
      ]
    },
    {
      "cell_type": "code",
      "execution_count": null,
      "id": "7ba8ee06-a241-400b-87b3-05d8cd876360",
      "metadata": {
        "colab": {
          "base_uri": "https://localhost:8080/",
          "height": 36
        },
        "id": "7ba8ee06-a241-400b-87b3-05d8cd876360",
        "outputId": "10cc0dbb-9cd8-4727-9b80-84885a795d52"
      },
      "outputs": [
        {
          "output_type": "execute_result",
          "data": {
            "text/plain": [
              "'Math'"
            ],
            "application/vnd.google.colaboratory.intrinsic+json": {
              "type": "string"
            }
          },
          "metadata": {},
          "execution_count": 211
        }
      ],
      "source": [
        "studentRecord['courseHistory'][1]"
      ]
    },
    {
      "cell_type": "markdown",
      "id": "4aa88629-2cf5-472f-a729-e843b368abad",
      "metadata": {
        "id": "4aa88629-2cf5-472f-a729-e843b368abad"
      },
      "source": [
        "Notice how we can treat the `\"courseHistory\"` value in our dictionary as if it were a list, because it is actually a list stored within the dictionary. Whenever an object is stored as part of another object, when we reference the internal object, we can treat it just like we would have treated it even if it were not part of something else! This makes dictionaries and lists into VERY powerful tools, that can organize and store large amounts of related information for future retrieval!\n",
        "\n",
        "### Dictionary Methods\n",
        "\n",
        "Dictionaries, due to their structure, are typically not operated on directly using operators (like we have done with other object types). The most important methods associated with dictionaries are related to retrieving the keys of the dictionary, the values of the dictionary, and extracting key-value pairs:"
      ]
    },
    {
      "cell_type": "code",
      "execution_count": null,
      "id": "a8e650a7-1581-426f-aeb7-a98d01c0a8b6",
      "metadata": {
        "colab": {
          "base_uri": "https://localhost:8080/"
        },
        "id": "a8e650a7-1581-426f-aeb7-a98d01c0a8b6",
        "outputId": "2f02b637-09e6-44f3-e070-f67e31c286ec"
      },
      "outputs": [
        {
          "output_type": "execute_result",
          "data": {
            "text/plain": [
              "dict_keys(['name', 'age', 'GPA', 'courseHistory'])"
            ]
          },
          "metadata": {},
          "execution_count": 215
        }
      ],
      "source": [
        "# Extract keys only\n",
        "\n",
        "studentRecord.keys()"
      ]
    },
    {
      "cell_type": "code",
      "execution_count": null,
      "id": "4cbf58c9-9c5d-4de8-ba5e-aba9ac9eeb00",
      "metadata": {
        "colab": {
          "base_uri": "https://localhost:8080/"
        },
        "id": "4cbf58c9-9c5d-4de8-ba5e-aba9ac9eeb00",
        "outputId": "1aaa7983-b62f-43eb-ee82-f4b0fdf1054d"
      },
      "outputs": [
        {
          "output_type": "execute_result",
          "data": {
            "text/plain": [
              "dict_values(['Dusty White', 32, 3.45, ['Econ', 'Math', 'Chem']])"
            ]
          },
          "metadata": {},
          "execution_count": 216
        }
      ],
      "source": [
        "# Extract values only\n",
        "\n",
        "studentRecord.values()"
      ]
    },
    {
      "cell_type": "code",
      "execution_count": null,
      "id": "2a63cc51-a5a0-4cfb-b46d-8fffe5718953",
      "metadata": {
        "colab": {
          "base_uri": "https://localhost:8080/"
        },
        "id": "2a63cc51-a5a0-4cfb-b46d-8fffe5718953",
        "outputId": "d3545bc6-07c5-4e8a-c7d8-51fa1eeb64ef"
      },
      "outputs": [
        {
          "output_type": "execute_result",
          "data": {
            "text/plain": [
              "dict_items([('name', 'Dusty White'), ('age', 32), ('GPA', 3.45), ('courseHistory', ['Econ', 'Math', 'Chem'])])"
            ]
          },
          "metadata": {},
          "execution_count": 217
        }
      ],
      "source": [
        "# Extract key-value pairs\n",
        "\n",
        "studentRecord.items()"
      ]
    },
    {
      "cell_type": "markdown",
      "id": "8e795061-9c5a-4351-b278-5e7fb777e6a3",
      "metadata": {
        "tags": [],
        "id": "8e795061-9c5a-4351-b278-5e7fb777e6a3"
      },
      "source": [
        "### Solve-it!\n",
        "\n",
        "Create a dictionary to store information about a purchase at a clothing store that contains the following keys and values:\n",
        "- A \"name\" key that corresponds to the name of the buyer\n",
        "- An \"items\" key that corresponds to a **list** of items purchased\n",
        "- A \"discount\" key that corresponds to a **boolean** value indicating whether or not the buyer received a discount on the purchase\n",
        "- A \"price\" key that corresponds to the price that the buyer paid for the purchase as a whole.\n",
        "\n",
        "Store the resulting dictionary as a variable named `receipt` in the cell labeled `#si-receipt` below. Deleting the comment will result in you not getting credit for your work."
      ]
    },
    {
      "cell_type": "code",
      "execution_count": null,
      "id": "8d24b265-2b0b-4424-964e-071948b2ce25",
      "metadata": {
        "id": "8d24b265-2b0b-4424-964e-071948b2ce25"
      },
      "outputs": [],
      "source": [
        "#si-receipt\n",
        "receipt = {\n",
        "    'name' : 'Jane Doe' ,\n",
        "    'items' : ['shirt' , 'shoe' , 'dress'] ,\n",
        "    'discount' : True ,\n",
        "    'price' : 90.99\n",
        "    }\n"
      ]
    },
    {
      "cell_type": "code",
      "source": [],
      "metadata": {
        "id": "GOglOaxJ4biE"
      },
      "id": "GOglOaxJ4biE",
      "execution_count": null,
      "outputs": []
    }
  ],
  "metadata": {
    "kernelspec": {
      "display_name": "Python 3 (ipykernel)",
      "language": "python",
      "name": "python3"
    },
    "language_info": {
      "codemirror_mode": {
        "name": "ipython",
        "version": 3
      },
      "file_extension": ".py",
      "mimetype": "text/x-python",
      "name": "python",
      "nbconvert_exporter": "python",
      "pygments_lexer": "ipython3",
      "version": "3.9.13"
    },
    "colab": {
      "provenance": [],
      "toc_visible": true
    }
  },
  "nbformat": 4,
  "nbformat_minor": 5
}